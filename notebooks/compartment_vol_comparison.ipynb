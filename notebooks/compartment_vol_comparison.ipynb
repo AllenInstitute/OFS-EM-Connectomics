{
 "cells": [
  {
   "cell_type": "markdown",
   "metadata": {},
   "source": [
    "# Compartment Volume Comparison\n",
    "Comparing the volumes of mitochondria within each labeled neuronal compartment"
   ]
  },
  {
   "cell_type": "code",
   "execution_count": 1,
   "metadata": {},
   "outputs": [
    {
     "ename": "ModuleNotFoundError",
     "evalue": "No module named 'lib'",
     "output_type": "error",
     "traceback": [
      "\u001b[0;31m---------------------------------------------------------------------------\u001b[0m",
      "\u001b[0;31mModuleNotFoundError\u001b[0m                       Traceback (most recent call last)",
      "\u001b[0;32m<ipython-input-1-6c0c915c3473>\u001b[0m in \u001b[0;36m<module>\u001b[0;34m\u001b[0m\n\u001b[1;32m      7\u001b[0m \u001b[0;32mfrom\u001b[0m \u001b[0mscipy\u001b[0m \u001b[0;32mimport\u001b[0m \u001b[0mstats\u001b[0m\u001b[0;34m\u001b[0m\u001b[0m\n\u001b[1;32m      8\u001b[0m \u001b[0;34m\u001b[0m\u001b[0m\n\u001b[0;32m----> 9\u001b[0;31m \u001b[0;32mfrom\u001b[0m \u001b[0mlib\u001b[0m \u001b[0;32mimport\u001b[0m \u001b[0mcompartment\u001b[0m\u001b[0;34m,\u001b[0m \u001b[0mplot\u001b[0m\u001b[0;34m,\u001b[0m \u001b[0mu\u001b[0m\u001b[0;34m\u001b[0m\u001b[0m\n\u001b[0m\u001b[1;32m     10\u001b[0m \u001b[0;32mfrom\u001b[0m \u001b[0mimportlib\u001b[0m \u001b[0;32mimport\u001b[0m \u001b[0mreload\u001b[0m\u001b[0;34m\u001b[0m\u001b[0m\n",
      "\u001b[0;31mModuleNotFoundError\u001b[0m: No module named 'lib'"
     ]
    }
   ],
   "source": [
    "# just getting past the weird Static TLS thing...\n",
    "from meshparty import trimesh_io\n",
    "\n",
    "import numpy as np\n",
    "import pandas as pd\n",
    "import matplotlib.pyplot as plt\n",
    "from scipy import stats\n",
    "\n",
    "from lib import compartment, plot, u\n",
    "from importlib import reload"
   ]
  },
  {
   "cell_type": "code",
   "execution_count": 2,
   "metadata": {},
   "outputs": [],
   "source": [
    "MITODF_FILENAME = \"data/pni_mito_cellswskel_v185.csv\"\n",
    "DISTDF_FILENAME = \"data/mito_to_skel_v185.h5\"\n",
    "CLEANIDS_FILENAME = \"data/clean_compartment_ids_v185.csv\""
   ]
  },
  {
   "cell_type": "markdown",
   "metadata": {},
   "source": [
    "### Reading data"
   ]
  },
  {
   "cell_type": "code",
   "execution_count": 3,
   "metadata": {},
   "outputs": [],
   "source": [
    "mitodf = pd.read_csv(MITODF_FILENAME, index_col=0)\n",
    "distdf = compartment.read_dist_df(DISTDF_FILENAME)\n",
    "cleanids = u.read_ids(CLEANIDS_FILENAME)"
   ]
  },
  {
   "cell_type": "code",
   "execution_count": 4,
   "metadata": {},
   "outputs": [
    {
     "data": {
      "text/html": [
       "<div>\n",
       "<style scoped>\n",
       "    .dataframe tbody tr th:only-of-type {\n",
       "        vertical-align: middle;\n",
       "    }\n",
       "\n",
       "    .dataframe tbody tr th {\n",
       "        vertical-align: top;\n",
       "    }\n",
       "\n",
       "    .dataframe thead th {\n",
       "        text-align: right;\n",
       "    }\n",
       "</style>\n",
       "<table border=\"1\" class=\"dataframe\">\n",
       "  <thead>\n",
       "    <tr style=\"text-align: right;\">\n",
       "      <th></th>\n",
       "      <th>mito_vx</th>\n",
       "      <th>ctr_pos_x_vx</th>\n",
       "      <th>ctr_pos_y_vx</th>\n",
       "      <th>ctr_pos_z_vx</th>\n",
       "      <th>bbox_beg_x_vx</th>\n",
       "      <th>bbox_beg_y_vx</th>\n",
       "      <th>bbox_beg_z_vx</th>\n",
       "      <th>bbox_end_x_vx</th>\n",
       "      <th>bbox_end_y_vx</th>\n",
       "      <th>bbox_end_z_vx</th>\n",
       "      <th>cellid</th>\n",
       "      <th>ctr_pos_x_nm</th>\n",
       "      <th>ctr_pos_y_nm</th>\n",
       "      <th>ctr_pos_z_nm</th>\n",
       "    </tr>\n",
       "    <tr>\n",
       "      <th>mito_id</th>\n",
       "      <th></th>\n",
       "      <th></th>\n",
       "      <th></th>\n",
       "      <th></th>\n",
       "      <th></th>\n",
       "      <th></th>\n",
       "      <th></th>\n",
       "      <th></th>\n",
       "      <th></th>\n",
       "      <th></th>\n",
       "      <th></th>\n",
       "      <th></th>\n",
       "      <th></th>\n",
       "      <th></th>\n",
       "    </tr>\n",
       "  </thead>\n",
       "  <tbody>\n",
       "    <tr>\n",
       "      <th>1783325</th>\n",
       "      <td>527936</td>\n",
       "      <td>75186</td>\n",
       "      <td>43844</td>\n",
       "      <td>1430</td>\n",
       "      <td>74824</td>\n",
       "      <td>43668</td>\n",
       "      <td>1323</td>\n",
       "      <td>75472</td>\n",
       "      <td>44120</td>\n",
       "      <td>1561</td>\n",
       "      <td>648518346349523993</td>\n",
       "      <td>300744</td>\n",
       "      <td>175376</td>\n",
       "      <td>57200</td>\n",
       "    </tr>\n",
       "    <tr>\n",
       "      <th>3272360</th>\n",
       "      <td>354680</td>\n",
       "      <td>101562</td>\n",
       "      <td>47000</td>\n",
       "      <td>241</td>\n",
       "      <td>101260</td>\n",
       "      <td>46750</td>\n",
       "      <td>191</td>\n",
       "      <td>101750</td>\n",
       "      <td>47228</td>\n",
       "      <td>303</td>\n",
       "      <td>648518346349538711</td>\n",
       "      <td>406248</td>\n",
       "      <td>188000</td>\n",
       "      <td>9640</td>\n",
       "    </tr>\n",
       "    <tr>\n",
       "      <th>1776789</th>\n",
       "      <td>523452</td>\n",
       "      <td>74500</td>\n",
       "      <td>43210</td>\n",
       "      <td>1457</td>\n",
       "      <td>73444</td>\n",
       "      <td>42632</td>\n",
       "      <td>1401</td>\n",
       "      <td>75636</td>\n",
       "      <td>43732</td>\n",
       "      <td>1564</td>\n",
       "      <td>648518346349538102</td>\n",
       "      <td>298000</td>\n",
       "      <td>172840</td>\n",
       "      <td>58280</td>\n",
       "    </tr>\n",
       "    <tr>\n",
       "      <th>2158922</th>\n",
       "      <td>4428</td>\n",
       "      <td>81214</td>\n",
       "      <td>54992</td>\n",
       "      <td>1230</td>\n",
       "      <td>81172</td>\n",
       "      <td>54962</td>\n",
       "      <td>1228</td>\n",
       "      <td>81254</td>\n",
       "      <td>55018</td>\n",
       "      <td>1235</td>\n",
       "      <td>648518346349538730</td>\n",
       "      <td>324856</td>\n",
       "      <td>219968</td>\n",
       "      <td>49200</td>\n",
       "    </tr>\n",
       "    <tr>\n",
       "      <th>2158896</th>\n",
       "      <td>11196</td>\n",
       "      <td>81194</td>\n",
       "      <td>53124</td>\n",
       "      <td>2007</td>\n",
       "      <td>81142</td>\n",
       "      <td>53096</td>\n",
       "      <td>2004</td>\n",
       "      <td>81250</td>\n",
       "      <td>53168</td>\n",
       "      <td>2014</td>\n",
       "      <td>648518346349532295</td>\n",
       "      <td>324776</td>\n",
       "      <td>212496</td>\n",
       "      <td>80280</td>\n",
       "    </tr>\n",
       "  </tbody>\n",
       "</table>\n",
       "</div>"
      ],
      "text/plain": [
       "         mito_vx  ctr_pos_x_vx  ctr_pos_y_vx  ctr_pos_z_vx  bbox_beg_x_vx  \\\n",
       "mito_id                                                                     \n",
       "1783325   527936         75186         43844          1430          74824   \n",
       "3272360   354680        101562         47000           241         101260   \n",
       "1776789   523452         74500         43210          1457          73444   \n",
       "2158922     4428         81214         54992          1230          81172   \n",
       "2158896    11196         81194         53124          2007          81142   \n",
       "\n",
       "         bbox_beg_y_vx  bbox_beg_z_vx  bbox_end_x_vx  bbox_end_y_vx  \\\n",
       "mito_id                                                               \n",
       "1783325          43668           1323          75472          44120   \n",
       "3272360          46750            191         101750          47228   \n",
       "1776789          42632           1401          75636          43732   \n",
       "2158922          54962           1228          81254          55018   \n",
       "2158896          53096           2004          81250          53168   \n",
       "\n",
       "         bbox_end_z_vx              cellid  ctr_pos_x_nm  ctr_pos_y_nm  \\\n",
       "mito_id                                                                  \n",
       "1783325           1561  648518346349523993        300744        175376   \n",
       "3272360            303  648518346349538711        406248        188000   \n",
       "1776789           1564  648518346349538102        298000        172840   \n",
       "2158922           1235  648518346349538730        324856        219968   \n",
       "2158896           2014  648518346349532295        324776        212496   \n",
       "\n",
       "         ctr_pos_z_nm  \n",
       "mito_id                \n",
       "1783325         57200  \n",
       "3272360          9640  \n",
       "1776789         58280  \n",
       "2158922         49200  \n",
       "2158896         80280  "
      ]
     },
     "execution_count": 4,
     "metadata": {},
     "output_type": "execute_result"
    }
   ],
   "source": [
    "mitodf.head()"
   ]
  },
  {
   "cell_type": "markdown",
   "metadata": {},
   "source": [
    "### Restricting analysis to PyCs with QC'd compartment labels"
   ]
  },
  {
   "cell_type": "code",
   "execution_count": 5,
   "metadata": {},
   "outputs": [],
   "source": [
    "mitodf = mitodf[mitodf.cellid.isin(cleanids)]"
   ]
  },
  {
   "cell_type": "markdown",
   "metadata": {},
   "source": [
    "### Assigning compartment labels to mitochondria"
   ]
  },
  {
   "cell_type": "code",
   "execution_count": 6,
   "metadata": {},
   "outputs": [],
   "source": [
    "ids, lbls = compartment.majority_vote_label(distdf)\n",
    "lbl_lookup = dict(zip(ids, lbls))\n",
    "mitodf.loc[:, \"nodelbl\"] = np.array([lbl_lookup[i] for i in mitodf.index])"
   ]
  },
  {
   "cell_type": "markdown",
   "metadata": {},
   "source": [
    "# Plots"
   ]
  },
  {
   "cell_type": "code",
   "execution_count": 7,
   "metadata": {},
   "outputs": [
    {
     "data": {
      "image/png": "[encoded data removed]",
      "text/plain": [
       "<Figure size 360x720 with 1 Axes>"
      ]
     },
     "metadata": {
      "needs_background": "light"
     },
     "output_type": "display_data"
    }
   ],
   "source": [
    "plt.figure(figsize=(5, 10))\n",
    "plotdf = plot.panelD(mitodf)\n",
    "\n",
    "plot.plt.show()"
   ]
  },
  {
   "cell_type": "markdown",
   "metadata": {},
   "source": [
    "### Removing mitochondria with zero minimum distance to a soma node"
   ]
  },
  {
   "cell_type": "code",
   "execution_count": 8,
   "metadata": {},
   "outputs": [],
   "source": [
    "# Need to do this to preserve the cellid datatype (pandas likes to make things into floats)\n",
    "mitoids = compartment.read_dist_data(\"mitoids\", filename=DISTDF_FILENAME)\n",
    "cellids = compartment.read_dist_data(\"cellid\", filename=DISTDF_FILENAME)\n",
    "cellid_lookup = {m: c for (m, c) in zip(mitoids, cellids)}"
   ]
  },
  {
   "cell_type": "code",
   "execution_count": 9,
   "metadata": {},
   "outputs": [],
   "source": [
    "distdf_mean = distdf.groupby(\"mitoids\").mean().drop([\"nodeids\", \"nodelbls\", \"cellid\"], axis=1)\n",
    "distdf_mean[\"nodelbl\"] = np.array([lbl_lookup[i] for i in distdf_mean.index])\n",
    "distdf_mean[\"cellid\"] = np.array([cellid_lookup[i] for i in distdf_mean.index])"
   ]
  },
  {
   "cell_type": "code",
   "execution_count": 10,
   "metadata": {},
   "outputs": [],
   "source": [
    "distdf_min = distdf.groupby(\"mitoids\").min().drop([\"nodeids\", \"nodelbls\", \"cellid\"], axis=1)\n",
    "distdf_min[\"nodelbl\"] = np.array([lbl_lookup[i] for i in distdf_min.index])\n",
    "distdf_min[\"cellid\"] = np.array([cellid_lookup[i] for i in distdf_min.index])"
   ]
  },
  {
   "cell_type": "code",
   "execution_count": 11,
   "metadata": {},
   "outputs": [
    {
     "data": {
      "text/plain": [
       "((210975, 4), (210975, 4))"
      ]
     },
     "execution_count": 11,
     "metadata": {},
     "output_type": "execute_result"
    }
   ],
   "source": [
    "distdf_mean.shape, distdf_min.shape"
   ]
  },
  {
   "cell_type": "code",
   "execution_count": 12,
   "metadata": {},
   "outputs": [],
   "source": [
    "idsnearsoma = distdf_min.index[(distdf_min.nodedists == 0) &\n",
    "                               (distdf_min.nodelbl != 0)].tolist()"
   ]
  },
  {
   "cell_type": "code",
   "execution_count": 13,
   "metadata": {},
   "outputs": [
    {
     "data": {
      "image/png": "[encoded data removed]",
      "text/plain": [
       "<Figure size 360x720 with 1 Axes>"
      ]
     },
     "metadata": {
      "needs_background": "light"
     },
     "output_type": "display_data"
    }
   ],
   "source": [
    "plt.figure(figsize=(5, 10))\n",
    "plot.panelD(mitodf, idsnearsoma=idsnearsoma)\n",
    "\n",
    "plot.plt.show()"
   ]
  },
  {
   "cell_type": "markdown",
   "metadata": {},
   "source": [
    "### Statistics"
   ]
  },
  {
   "cell_type": "code",
   "execution_count": 14,
   "metadata": {},
   "outputs": [],
   "source": [
    "axon_to_soma = stats.mannwhitneyu(\n",
    "    plotdf.vol[plotdf.compartment == \"axonal\"],\n",
    "    plotdf.vol[plotdf.compartment == \"somatic\"],\n",
    "    alternative=\"less\")\n",
    "\n",
    "soma_to_apical = stats.mannwhitneyu(\n",
    "    plotdf.vol[plotdf.compartment == \"somatic\"],\n",
    "    plotdf.vol[plotdf.compartment == \"apical\"],\n",
    "    alternative=\"less\")\n",
    "\n",
    "apical_to_basal = stats.mannwhitneyu(\n",
    "    plotdf.vol[plotdf.compartment == \"apical\"],\n",
    "    plotdf.vol[plotdf.compartment == \"basal\"],\n",
    "    alternative=\"less\")"
   ]
  },
  {
   "cell_type": "code",
   "execution_count": 15,
   "metadata": {},
   "outputs": [
    {
     "data": {
      "text/plain": [
       "compartment\n",
       "apical      7917\n",
       "axonal      3754\n",
       "basal      20033\n",
       "somatic    29678\n",
       "Name: vol, dtype: int64"
      ]
     },
     "execution_count": 15,
     "metadata": {},
     "output_type": "execute_result"
    }
   ],
   "source": [
    "plotdf.groupby(\"compartment\")[\"vol\"].count()"
   ]
  },
  {
   "cell_type": "code",
   "execution_count": 16,
   "metadata": {},
   "outputs": [
    {
     "data": {
      "text/plain": [
       "MannwhitneyuResult(statistic=29401046.5, pvalue=0.0)"
      ]
     },
     "execution_count": 16,
     "metadata": {},
     "output_type": "execute_result"
    }
   ],
   "source": [
    "axon_to_soma"
   ]
  },
  {
   "cell_type": "code",
   "execution_count": 17,
   "metadata": {},
   "outputs": [
    {
     "data": {
      "text/plain": [
       "MannwhitneyuResult(statistic=86985950.0, pvalue=5.512816571268197e-277)"
      ]
     },
     "execution_count": 17,
     "metadata": {},
     "output_type": "execute_result"
    }
   ],
   "source": [
    "soma_to_apical"
   ]
  },
  {
   "cell_type": "code",
   "execution_count": 18,
   "metadata": {},
   "outputs": [
    {
     "data": {
      "text/plain": [
       "MannwhitneyuResult(statistic=72893896.0, pvalue=2.799750439677269e-26)"
      ]
     },
     "execution_count": 18,
     "metadata": {},
     "output_type": "execute_result"
    }
   ],
   "source": [
    "apical_to_basal"
   ]
  },
  {
   "cell_type": "markdown",
   "metadata": {},
   "source": [
    "### Re-plotting with significance annotations"
   ]
  },
  {
   "cell_type": "code",
   "execution_count": 19,
   "metadata": {},
   "outputs": [],
   "source": [
    "p95s = list()\n",
    "for comp in ['axonal', 'somatic', 'apical', 'basal']:\n",
    "    subdf = plotdf[plotdf.compartment == comp]\n",
    "    p95s.append(np.percentile(subdf.vol, 95))\n",
    "    "
   ]
  },
  {
   "cell_type": "code",
   "execution_count": 20,
   "metadata": {},
   "outputs": [
    {
     "data": {
      "image/png": "[encoded data removed]",
      "text/plain": [
       "<Figure size 360x720 with 1 Axes>"
      ]
     },
     "metadata": {
      "needs_background": "light"
     },
     "output_type": "display_data"
    }
   ],
   "source": [
    "plt.figure(figsize=(5, 10))\n",
    "plot.panelD(mitodf)\n",
    "\n",
    "plot.barplot_annotate_brackets(0, 1, '**', np.arange(4), p95s)\n",
    "plot.barplot_annotate_brackets(1, 2, '**', np.arange(4), p95s, dh=0.08)\n",
    "plot.barplot_annotate_brackets(2, 3, '*', np.arange(4), p95s, dh=.2)\n",
    "\n",
    "plt.xticks(rotation=45, fontsize=22)\n",
    "plt.yticks(fontsize=22)\n",
    "\n",
    "plot.plt.show()"
   ]
  }
 ],
 "metadata": {
  "kernelspec": {
   "display_name": "ofs",
   "language": "python",
   "name": "ofs"
  },
  "language_info": {
   "codemirror_mode": {
    "name": "ipython",
    "version": 3
   },
   "file_extension": ".py",
   "mimetype": "text/x-python",
   "name": "python",
   "nbconvert_exporter": "python",
   "pygments_lexer": "ipython3",
   "version": "3.7.0"
  }
 },
 "nbformat": 4,
 "nbformat_minor": 4
}
