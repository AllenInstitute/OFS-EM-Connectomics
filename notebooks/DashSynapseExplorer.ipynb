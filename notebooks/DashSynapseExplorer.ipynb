{
 "cells": [
  {
   "cell_type": "markdown",
   "metadata": {},
   "source": [
    "#### If you haven't looked at MostSynapsesInAndOut first, consider starting there, as this notebook builds on concepts described there."
   ]
  },
  {
   "cell_type": "code",
   "execution_count": 1,
   "metadata": {},
   "outputs": [],
   "source": [
    "from jupyter_dash import JupyterDash\n",
    "import dash\n",
    "import pandas as pd\n",
    "from nglui.statebuilder import *\n",
    "from dashdataframe import configure_app\n",
    "import numpy as np\n",
    "import matplotlib.pyplot as plt"
   ]
  },
  {
   "cell_type": "code",
   "execution_count": 6,
   "metadata": {},
   "outputs": [],
   "source": [
    "JupyterDash.infer_jupyter_proxy_config()"
   ]
  },
  {
   "cell_type": "markdown",
   "metadata": {},
   "source": [
    "read in the soma subgraph synapse table"
   ]
  },
  {
   "cell_type": "code",
   "execution_count": 9,
   "metadata": {},
   "outputs": [],
   "source": [
    "soma_subgraph_df = pd.read_csv('../data/soma_subgraph_synapses_spines_v185.csv')"
   ]
  },
  {
   "cell_type": "markdown",
   "metadata": {},
   "source": [
    "we need the position in voxel in a single column\n",
    "to make nglui work correctly"
   ]
  },
  {
   "cell_type": "code",
   "execution_count": 10,
   "metadata": {},
   "outputs": [],
   "source": [
    "soma_subgraph_df.loc[:, 'ctr_pos']=soma_subgraph_df.apply(lambda x: [x.ctr_pos_x_vx, x.ctr_pos_y_vx, x.ctr_pos_z_vx], axis=1).copy()"
   ]
  },
  {
   "cell_type": "markdown",
   "metadata": {},
   "source": [
    "\n",
    "setup a nglui pipeline to visualize synapses\n",
    "\n",
    "get sources from the neuroglancer link\n",
    "use nglui (www.github.com/seung-lab/NeuroglancerAnnotationUI) to setup a dataframe > neuroglancer link pipeline\n"
   ]
  },
  {
   "cell_type": "code",
   "execution_count": 11,
   "metadata": {},
   "outputs": [],
   "source": [
    "\n",
    "img_source = \"precomputed://https://storage.googleapis.com/microns_public_datasets/pinky100_v0/son_of_alignment_v15_rechunked\"\n",
    "seg_source = \"precomputed://gs://microns_public_datasets/pinky100_v185/seg\"\n",
    "\n",
    "img_layer = ImageLayerConfig(name='layer23',\n",
    "                             source=img_source,\n",
    "                             )\n",
    "# we want the segmentation layer with our target neuron always on\n",
    "seg_layer = SegmentationLayerConfig(name = 'seg',\n",
    "                                    source = seg_source)\n",
    "\n",
    "# need to consolidate the synapse position into a single column\n",
    "\n",
    "# setup a mapping rule for point annotations\n",
    "# in this case this is setup to light up pre and post partner\n",
    "syn_points = PointMapper(point_column='ctr_pos',\n",
    "                         set_position=True,\n",
    "                         linked_segmentation_column=['pre_root_id', 'post_root_id'])\n",
    "\n",
    "# add these points linked to the segmentation layer name\n",
    "syn_layer = AnnotationLayerConfig(name='synapses',\n",
    "                                  mapping_rules=syn_points,\n",
    "                                  linked_segmentation_layer='seg')\n",
    "# setup a state builder with this layer pipeline\n",
    "sb = StateBuilder([img_layer, seg_layer, syn_layer])"
   ]
  },
  {
   "cell_type": "markdown",
   "metadata": {},
   "source": [
    "The below cell will launch a dash app window within jupyterlab that will look like this.\n",
    "\n",
    "![alt text](img/dash_screenshot.png \"Dash Screenshot\")\n",
    "\n",
    "On the left hand side, you have drop down menus that allow you to choose which variables to plot on the x and y axis, and optionally if you wish to color the dots with respect to a third variable.  \n",
    "\n",
    "In the middle of the plot you have your scatter plot, and if you mouse over you should see the plotly selection tools, including the lasso tool.\n",
    "\n",
    "When you select a group of points in the scatter plot, you can do two things:\n",
    "\n",
    "First, the link at the bottom of the plot labelled \"ngl synapse link\" will dynamically change on every selection to create a neuroglancer link with those synapses you selected as point annotations in the 'synapse' layer. When you enable the \"bracket shortcuts show segmentation\" option within the synapse layer options in neuroglancer, and use the bracket keys to iterate through the synapses, the two neurons involved in that synapse will be automatically selected.  This is similar to the MostSynapsesInAndOut notebook.. see that notebook for more explanation.\n",
    "\n",
    "Second, if you choose you can click the \"Filter sort\" button the left hand side.  This will remove all the scatter points that were not selected from the plot.  You can then change the axis, or coloring, and only those points will remain plotted in the new view.  This can be useful to computational sort through the data points you are interested in, and iteratively seperate things based upon whatever criteria you are interested in. You can also just leave those points selected and change the axis, and those points will remain highlighted in red in the new view. \n",
    "\n",
    "The nglui pipeline constructed above and the visualize_synapses function, is responsible for making this link happen, so you can experiment with modifying the pipeline to alter what neurons are shown, where the annotation are.  Also most of these tools are not actually specific to this dataset, so you might find them useful in other contexts.  There are also more features of [DashDataFrame](https://www.github.com/AllenInstitute/DashDataFrame) and [nglui](https://www.github.com/seung-lab/NeuroglancerAnnotationUI) that are not being used in this context, that you might want to check out or contribute to.\n",
    "\n",
    "\n"
   ]
  },
  {
   "cell_type": "markdown",
   "metadata": {},
   "source": [
    "We need to define this simple function to take a set of points which are selected in the UI, passed as selected row ids,\n",
    "and the dataframe and returns a link for the users.\n"
   ]
  },
  {
   "cell_type": "code",
   "execution_count": 12,
   "metadata": {},
   "outputs": [],
   "source": [
    "def visualize_synapses( selected_ids, df):\n",
    "    dff=df.loc[selected_ids]\n",
    "    return sb.render_state(dff, return_as='url')"
   ]
  },
  {
   "cell_type": "markdown",
   "metadata": {},
   "source": [
    "Only some of the columns make sense to scatter plot.  The configure_app functions configures the app to display this dataframe with only some of the columsn, and utilizing the visualize_synapse function to create the dynamically updated link. "
   ]
  },
  {
   "cell_type": "code",
   "execution_count": 14,
   "metadata": {},
   "outputs": [
    {
     "name": "stdout",
     "output_type": "stream",
     "text": [
      "Dash app running on http://localhost:8888/proxy/8555/\n"
     ]
    }
   ],
   "source": [
    "external_stylesheets = ['https://codepen.io/chriddyp/pen/bWLwgP.css']\n",
    "\n",
    "app = JupyterDash(__name__, external_stylesheets=external_stylesheets)\n",
    "\n",
    "configure_app(app, soma_subgraph_df,\n",
    "              link_func=visualize_synapses, link_name='ngl synapse link',\n",
    "              plot_columns = ['cleft_vx', 'spine_vol_um3', 'ctr_pt_x_nm', 'ctr_pt_y_nm', 'ctr_pt_z_nm'])\n",
    "\n",
    "app.run_server('external',port=8555)"
   ]
  },
  {
   "cell_type": "markdown",
   "metadata": {},
   "source": [
    "As a side note.  If you are running a notebook, or on a local computer, you can use the alternative \n",
    "of simply running \n",
    "```\n",
    "app.run_server(port=XXXX)\n",
    "```\n",
    "and avoiding needing jupyterlab_dash, but to make this work on MyBinder we had to use this."
   ]
  },
  {
   "cell_type": "markdown",
   "metadata": {},
   "source": [
    "# Multi Synapse Connections\n",
    "Now lets do some analysis that reproduces some results from Dorkenwald et al. 2019\n",
    "\n",
    "https://www.biorxiv.org/content/10.1101/2019.12.29.890319v1\n",
    "\n",
    "but now in a dynamic plot"
   ]
  },
  {
   "cell_type": "markdown",
   "metadata": {},
   "source": [
    "The paper displays data in log volume units"
   ]
  },
  {
   "cell_type": "code",
   "execution_count": 15,
   "metadata": {},
   "outputs": [],
   "source": [
    "soma_subgraph_df['log_spine_vol_um3']=np.log10(soma_subgraph_df.spine_vol_um3)\n",
    "soma_subgraph_df['log_cleft_vx']=np.log(soma_subgraph_df.cleft_vx)"
   ]
  },
  {
   "cell_type": "markdown",
   "metadata": {},
   "source": [
    "group by connection"
   ]
  },
  {
   "cell_type": "code",
   "execution_count": 16,
   "metadata": {},
   "outputs": [],
   "source": [
    "conn_grouped=soma_subgraph_df.groupby(['pre_root_id', 'post_root_id'])"
   ]
  },
  {
   "cell_type": "markdown",
   "metadata": {},
   "source": [
    "average size of synapses in connection (both log first and straight)\n",
    "transform will save it back to each synapse (so the info is repeated for every synapse in a connection)\n"
   ]
  },
  {
   "cell_type": "code",
   "execution_count": 17,
   "metadata": {},
   "outputs": [],
   "source": [
    "mean_size_df=conn_grouped[['cleft_vx','log_spine_vol_um3','log_cleft_vx', 'spine_vol_um3']].transform('mean')"
   ]
  },
  {
   "cell_type": "markdown",
   "metadata": {},
   "source": [
    "let's rename the columns"
   ]
  },
  {
   "cell_type": "code",
   "execution_count": 18,
   "metadata": {},
   "outputs": [],
   "source": [
    "mean_size_df.columns=['mean_cleft_vx', \n",
    "                      'mean_log_spine_vol_um3', \n",
    "                      'mean_log_cleft_vx',\n",
    "                      'mean_spine_vol_um3']"
   ]
  },
  {
   "cell_type": "markdown",
   "metadata": {},
   "source": [
    "how many total synapses are involved with this synapse connection\n",
    "again transform to repeat it for every synapse"
   ]
  },
  {
   "cell_type": "code",
   "execution_count": 19,
   "metadata": {},
   "outputs": [],
   "source": [
    "count_df = conn_grouped['cleft_vx'].transform('count')"
   ]
  },
  {
   "cell_type": "markdown",
   "metadata": {},
   "source": [
    "Lets rename the column"
   ]
  },
  {
   "cell_type": "code",
   "execution_count": 20,
   "metadata": {},
   "outputs": [],
   "source": [
    "count_df.name='num_syn_in_conn'"
   ]
  },
  {
   "cell_type": "code",
   "execution_count": 21,
   "metadata": {},
   "outputs": [
    {
     "data": {
      "text/html": [
       "<div>\n",
       "<style scoped>\n",
       "    .dataframe tbody tr th:only-of-type {\n",
       "        vertical-align: middle;\n",
       "    }\n",
       "\n",
       "    .dataframe tbody tr th {\n",
       "        vertical-align: top;\n",
       "    }\n",
       "\n",
       "    .dataframe thead th {\n",
       "        text-align: right;\n",
       "    }\n",
       "</style>\n",
       "<table border=\"1\" class=\"dataframe\">\n",
       "  <thead>\n",
       "    <tr style=\"text-align: right;\">\n",
       "      <th></th>\n",
       "      <th>mean_cleft_vx</th>\n",
       "      <th>mean_log_spine_vol_um3</th>\n",
       "      <th>mean_log_cleft_vx</th>\n",
       "      <th>mean_spine_vol_um3</th>\n",
       "    </tr>\n",
       "  </thead>\n",
       "  <tbody>\n",
       "    <tr>\n",
       "      <th>0</th>\n",
       "      <td>798.000000</td>\n",
       "      <td>-0.876135</td>\n",
       "      <td>6.682109</td>\n",
       "      <td>0.133004</td>\n",
       "    </tr>\n",
       "    <tr>\n",
       "      <th>1</th>\n",
       "      <td>209.000000</td>\n",
       "      <td>-1.056534</td>\n",
       "      <td>5.342334</td>\n",
       "      <td>0.087794</td>\n",
       "    </tr>\n",
       "    <tr>\n",
       "      <th>2</th>\n",
       "      <td>589.666667</td>\n",
       "      <td>-0.897432</td>\n",
       "      <td>6.238515</td>\n",
       "      <td>0.140721</td>\n",
       "    </tr>\n",
       "    <tr>\n",
       "      <th>3</th>\n",
       "      <td>589.666667</td>\n",
       "      <td>-0.897432</td>\n",
       "      <td>6.238515</td>\n",
       "      <td>0.140721</td>\n",
       "    </tr>\n",
       "    <tr>\n",
       "      <th>4</th>\n",
       "      <td>589.666667</td>\n",
       "      <td>-0.897432</td>\n",
       "      <td>6.238515</td>\n",
       "      <td>0.140721</td>\n",
       "    </tr>\n",
       "    <tr>\n",
       "      <th>...</th>\n",
       "      <td>...</td>\n",
       "      <td>...</td>\n",
       "      <td>...</td>\n",
       "      <td>...</td>\n",
       "    </tr>\n",
       "    <tr>\n",
       "      <th>1956</th>\n",
       "      <td>74.000000</td>\n",
       "      <td>-1.600121</td>\n",
       "      <td>4.304065</td>\n",
       "      <td>0.025112</td>\n",
       "    </tr>\n",
       "    <tr>\n",
       "      <th>1957</th>\n",
       "      <td>211.000000</td>\n",
       "      <td>-1.524232</td>\n",
       "      <td>5.351858</td>\n",
       "      <td>0.029907</td>\n",
       "    </tr>\n",
       "    <tr>\n",
       "      <th>1958</th>\n",
       "      <td>134.000000</td>\n",
       "      <td>-1.220009</td>\n",
       "      <td>4.897840</td>\n",
       "      <td>0.060255</td>\n",
       "    </tr>\n",
       "    <tr>\n",
       "      <th>1959</th>\n",
       "      <td>95.000000</td>\n",
       "      <td>-1.831054</td>\n",
       "      <td>4.553877</td>\n",
       "      <td>0.014755</td>\n",
       "    </tr>\n",
       "    <tr>\n",
       "      <th>1960</th>\n",
       "      <td>515.000000</td>\n",
       "      <td>-1.073639</td>\n",
       "      <td>6.244167</td>\n",
       "      <td>0.084404</td>\n",
       "    </tr>\n",
       "  </tbody>\n",
       "</table>\n",
       "<p>1961 rows × 4 columns</p>\n",
       "</div>"
      ],
      "text/plain": [
       "      mean_cleft_vx  mean_log_spine_vol_um3  mean_log_cleft_vx  \\\n",
       "0        798.000000               -0.876135           6.682109   \n",
       "1        209.000000               -1.056534           5.342334   \n",
       "2        589.666667               -0.897432           6.238515   \n",
       "3        589.666667               -0.897432           6.238515   \n",
       "4        589.666667               -0.897432           6.238515   \n",
       "...             ...                     ...                ...   \n",
       "1956      74.000000               -1.600121           4.304065   \n",
       "1957     211.000000               -1.524232           5.351858   \n",
       "1958     134.000000               -1.220009           4.897840   \n",
       "1959      95.000000               -1.831054           4.553877   \n",
       "1960     515.000000               -1.073639           6.244167   \n",
       "\n",
       "      mean_spine_vol_um3  \n",
       "0               0.133004  \n",
       "1               0.087794  \n",
       "2               0.140721  \n",
       "3               0.140721  \n",
       "4               0.140721  \n",
       "...                  ...  \n",
       "1956            0.025112  \n",
       "1957            0.029907  \n",
       "1958            0.060255  \n",
       "1959            0.014755  \n",
       "1960            0.084404  \n",
       "\n",
       "[1961 rows x 4 columns]"
      ]
     },
     "execution_count": 21,
     "metadata": {},
     "output_type": "execute_result"
    }
   ],
   "source": [
    "mean_size_df"
   ]
  },
  {
   "cell_type": "markdown",
   "metadata": {},
   "source": [
    "Make a new dataframe that appends these new columns to the original\n"
   ]
  },
  {
   "cell_type": "code",
   "execution_count": 22,
   "metadata": {},
   "outputs": [],
   "source": [
    "new_df = pd.concat([soma_subgraph_df, mean_size_df, count_df], axis=1)"
   ]
  },
  {
   "cell_type": "markdown",
   "metadata": {},
   "source": [
    "This is a histogram of log10(um^3) spine head volumes\n",
    "for all synapses involved in a 2 synapse connection in the dataset"
   ]
  },
  {
   "cell_type": "code",
   "execution_count": 23,
   "metadata": {},
   "outputs": [
    {
     "data": {
      "text/plain": [
       "Text(0.5, 1.0, 'see Figure 3d')"
      ]
     },
     "execution_count": 23,
     "metadata": {},
     "output_type": "execute_result"
    },
    {
     "data": {
      "image/png": "[encoded data removed]",
      "text/plain": [
       "<Figure size 432x288 with 1 Axes>"
      ]
     },
     "metadata": {
      "needs_background": "light"
     },
     "output_type": "display_data"
    }
   ],
   "source": [
    "f, ax = plt.subplots()\n",
    "new_df.query('num_syn_in_conn==2').log_spine_vol_um3.hist(bins=np.linspace(-2.1,0,30))\n",
    "ax.set_xlabel('spine_vol_um3')\n",
    "ax.set_title('see Figure 3d')"
   ]
  },
  {
   "cell_type": "markdown",
   "metadata": {},
   "source": [
    "this is now the average log10(um^3) spine head volume for \n",
    "synapses in 2 synapse connections.\n",
    "Note how the bimodality is MORE pronounced here than\n",
    "it was in the histogram of individual sizes"
   ]
  },
  {
   "cell_type": "code",
   "execution_count": 24,
   "metadata": {},
   "outputs": [
    {
     "data": {
      "text/plain": [
       "Text(0.5, 1.0, 'see Figure 3e')"
      ]
     },
     "execution_count": 24,
     "metadata": {},
     "output_type": "execute_result"
    },
    {
     "data": {
      "image/png": "[encoded data removed]",
      "text/plain": [
       "<Figure size 432x288 with 1 Axes>"
      ]
     },
     "metadata": {
      "needs_background": "light"
     },
     "output_type": "display_data"
    }
   ],
   "source": [
    "f, ax = plt.subplots()\n",
    "new_df.query('num_syn_in_conn==2').mean_log_spine_vol_um3.hist(bins=np.linspace(-2.1,0,30))\n",
    "ax.set_xlabel('mean_spine_vol_um3')\n",
    "ax.set_title('see Figure 3e')"
   ]
  },
  {
   "cell_type": "code",
   "execution_count": 25,
   "metadata": {},
   "outputs": [],
   "source": [
    "# pick out the columns that are relevant in this dataframe\n",
    "selected_columns = [ 'num_syn_in_conn', 'mean_spine_vol_um3', 'cleft_vx', 'spine_vol_um3',\n",
    "       'ctr_pt_x_nm', 'ctr_pt_y_nm', 'ctr_pt_z_nm', 'log_spine_vol_um3', 'log_cleft_vx',\n",
    "       'mean_cleft_vx', 'mean_log_spine_vol_um3', 'mean_log_cleft_vx']"
   ]
  },
  {
   "cell_type": "markdown",
   "metadata": {},
   "source": [
    "Below you can use this dash app to explore this dataset, and select synapses based upon\n",
    "their aggregate connection properties\n",
    "as well as their individual properties.\n",
    "\n",
    "You can select synapses involved in dual or more than dual connections\n",
    "and then hit filter on the left to only show those points.\n",
    "\n",
    "Then you can dive into other metrics by changing the x,y axis on the scatter plot.\n",
    "The link will keep updating to include annotation points for the synapses you select."
   ]
  },
  {
   "cell_type": "code",
   "execution_count": 28,
   "metadata": {},
   "outputs": [
    {
     "name": "stdout",
     "output_type": "stream",
     "text": [
      "Dash app running on http://localhost:8888/proxy/8556/\n"
     ]
    }
   ],
   "source": [
    "app = JupyterDash(__name__, external_stylesheets=external_stylesheets)\n",
    "configure_app(app, new_df,\n",
    "              link_func=visualize_synapses, link_name='ngl synapse link',\n",
    "              plot_columns = selected_columns)\n",
    "\n",
    "app.run_server(mode='external',port=8556)"
   ]
  },
  {
   "cell_type": "markdown",
   "metadata": {},
   "source": [
    "Now if we want to reproduce Figure 4, we need to create a slightly different dataframe, where each row represents a pair of synapses in a dual synapse connection."
   ]
  },
  {
   "cell_type": "markdown",
   "metadata": {},
   "source": [
    "first lets just filter our dataframe for dual synapse connections.\n"
   ]
  },
  {
   "cell_type": "code",
   "execution_count": 29,
   "metadata": {},
   "outputs": [],
   "source": [
    "dual_syn = new_df.query('num_syn_in_conn==2')"
   ]
  },
  {
   "cell_type": "code",
   "execution_count": 30,
   "metadata": {},
   "outputs": [],
   "source": [
    "# a list of dictionaries to create our new dataframe\n",
    "ds = []\n",
    "for pair, grp in dual_syn.groupby(['pre_root_id', 'post_root_id']):\n",
    "    # sort them by log spine volume\n",
    "    grp = grp.sort_values('log_spine_vol_um3')\n",
    "    d={\n",
    "        'pre_root_id': pair[0],\n",
    "        'post_root_id': pair[1],\n",
    "        'pos_1': grp.iloc[0].ctr_pos,\n",
    "        'pos_2': grp.iloc[1].ctr_pos,\n",
    "        'log_spine_vol_um3_1': grp.iloc[0].log_spine_vol_um3,\n",
    "        'log_spine_vol_um3_2': grp.iloc[1].log_spine_vol_um3,\n",
    "        'mean_log_spine_vol_um3': grp.iloc[0].mean_log_spine_vol_um3,\n",
    "        'mean_cleft_vx': grp.iloc[0].mean_cleft_vx,\n",
    "        'log_cleft_vx_1': grp.iloc[0].log_cleft_vx,\n",
    "        'log_cleft_vx_2': grp.iloc[1].log_cleft_vx,\n",
    "        'syn_id_1': grp.iloc[0].id,\n",
    "        'syn_id_2': grp.iloc[1].id    \n",
    "    }\n",
    "    ds.append(d)\n",
    "dual_syn_df = pd.DataFrame(ds)"
   ]
  },
  {
   "cell_type": "code",
   "execution_count": 31,
   "metadata": {},
   "outputs": [
    {
     "data": {
      "text/html": [
       "<div>\n",
       "<style scoped>\n",
       "    .dataframe tbody tr th:only-of-type {\n",
       "        vertical-align: middle;\n",
       "    }\n",
       "\n",
       "    .dataframe tbody tr th {\n",
       "        vertical-align: top;\n",
       "    }\n",
       "\n",
       "    .dataframe thead th {\n",
       "        text-align: right;\n",
       "    }\n",
       "</style>\n",
       "<table border=\"1\" class=\"dataframe\">\n",
       "  <thead>\n",
       "    <tr style=\"text-align: right;\">\n",
       "      <th></th>\n",
       "      <th>pre_root_id</th>\n",
       "      <th>post_root_id</th>\n",
       "      <th>pos_1</th>\n",
       "      <th>pos_2</th>\n",
       "      <th>log_spine_vol_um3_1</th>\n",
       "      <th>log_spine_vol_um3_2</th>\n",
       "      <th>mean_log_spine_vol_um3</th>\n",
       "      <th>mean_cleft_vx</th>\n",
       "      <th>log_cleft_vx_1</th>\n",
       "      <th>log_cleft_vx_2</th>\n",
       "      <th>syn_id_1</th>\n",
       "      <th>syn_id_2</th>\n",
       "    </tr>\n",
       "  </thead>\n",
       "  <tbody>\n",
       "    <tr>\n",
       "      <th>0</th>\n",
       "      <td>648518346349492682</td>\n",
       "      <td>648518346349537515</td>\n",
       "      <td>[104535.0, 56803.0, 1235.0]</td>\n",
       "      <td>[108636.0, 70893.0, 1492.0]</td>\n",
       "      <td>-1.359268</td>\n",
       "      <td>-0.523567</td>\n",
       "      <td>-0.941417</td>\n",
       "      <td>874.0</td>\n",
       "      <td>4.499810</td>\n",
       "      <td>7.413367</td>\n",
       "      <td>2988623</td>\n",
       "      <td>3271025</td>\n",
       "    </tr>\n",
       "    <tr>\n",
       "      <th>1</th>\n",
       "      <td>648518346349519354</td>\n",
       "      <td>648518346349531327</td>\n",
       "      <td>[96742.0, 57122.0, 1502.0]</td>\n",
       "      <td>[97537.0, 39435.0, 1261.0]</td>\n",
       "      <td>-1.002666</td>\n",
       "      <td>-0.567721</td>\n",
       "      <td>-0.785193</td>\n",
       "      <td>645.0</td>\n",
       "      <td>6.200509</td>\n",
       "      <td>6.680855</td>\n",
       "      <td>2313123</td>\n",
       "      <td>2573660</td>\n",
       "    </tr>\n",
       "    <tr>\n",
       "      <th>2</th>\n",
       "      <td>648518346349519354</td>\n",
       "      <td>648518346349532295</td>\n",
       "      <td>[97454.0, 44494.0, 1420.0]</td>\n",
       "      <td>[82508.0, 51156.0, 1037.0]</td>\n",
       "      <td>-1.629881</td>\n",
       "      <td>-1.197137</td>\n",
       "      <td>-1.413509</td>\n",
       "      <td>105.0</td>\n",
       "      <td>4.234107</td>\n",
       "      <td>4.948760</td>\n",
       "      <td>100426</td>\n",
       "      <td>871661</td>\n",
       "    </tr>\n",
       "    <tr>\n",
       "      <th>3</th>\n",
       "      <td>648518346349519354</td>\n",
       "      <td>648518346349538235</td>\n",
       "      <td>[84348.0, 52976.0, 1299.0]</td>\n",
       "      <td>[83062.0, 51416.0, 1072.0]</td>\n",
       "      <td>-0.939439</td>\n",
       "      <td>-0.574285</td>\n",
       "      <td>-0.756862</td>\n",
       "      <td>721.0</td>\n",
       "      <td>6.646391</td>\n",
       "      <td>6.510258</td>\n",
       "      <td>2579251</td>\n",
       "      <td>2509483</td>\n",
       "    </tr>\n",
       "    <tr>\n",
       "      <th>4</th>\n",
       "      <td>648518346349523975</td>\n",
       "      <td>648518346349537514</td>\n",
       "      <td>[68668.0, 50266.0, 173.0]</td>\n",
       "      <td>[68216.0, 49464.0, 178.0]</td>\n",
       "      <td>-1.534128</td>\n",
       "      <td>-1.513598</td>\n",
       "      <td>-1.523863</td>\n",
       "      <td>107.5</td>\n",
       "      <td>4.574711</td>\n",
       "      <td>4.770685</td>\n",
       "      <td>421994</td>\n",
       "      <td>3251557</td>\n",
       "    </tr>\n",
       "  </tbody>\n",
       "</table>\n",
       "</div>"
      ],
      "text/plain": [
       "          pre_root_id        post_root_id                        pos_1  \\\n",
       "0  648518346349492682  648518346349537515  [104535.0, 56803.0, 1235.0]   \n",
       "1  648518346349519354  648518346349531327   [96742.0, 57122.0, 1502.0]   \n",
       "2  648518346349519354  648518346349532295   [97454.0, 44494.0, 1420.0]   \n",
       "3  648518346349519354  648518346349538235   [84348.0, 52976.0, 1299.0]   \n",
       "4  648518346349523975  648518346349537514    [68668.0, 50266.0, 173.0]   \n",
       "\n",
       "                         pos_2  log_spine_vol_um3_1  log_spine_vol_um3_2  \\\n",
       "0  [108636.0, 70893.0, 1492.0]            -1.359268            -0.523567   \n",
       "1   [97537.0, 39435.0, 1261.0]            -1.002666            -0.567721   \n",
       "2   [82508.0, 51156.0, 1037.0]            -1.629881            -1.197137   \n",
       "3   [83062.0, 51416.0, 1072.0]            -0.939439            -0.574285   \n",
       "4    [68216.0, 49464.0, 178.0]            -1.534128            -1.513598   \n",
       "\n",
       "   mean_log_spine_vol_um3  mean_cleft_vx  log_cleft_vx_1  log_cleft_vx_2  \\\n",
       "0               -0.941417          874.0        4.499810        7.413367   \n",
       "1               -0.785193          645.0        6.200509        6.680855   \n",
       "2               -1.413509          105.0        4.234107        4.948760   \n",
       "3               -0.756862          721.0        6.646391        6.510258   \n",
       "4               -1.523863          107.5        4.574711        4.770685   \n",
       "\n",
       "   syn_id_1  syn_id_2  \n",
       "0   2988623   3271025  \n",
       "1   2313123   2573660  \n",
       "2    100426    871661  \n",
       "3   2579251   2509483  \n",
       "4    421994   3251557  "
      ]
     },
     "execution_count": 31,
     "metadata": {},
     "output_type": "execute_result"
    }
   ],
   "source": [
    "dual_syn_df.head()"
   ]
  },
  {
   "cell_type": "code",
   "execution_count": 32,
   "metadata": {},
   "outputs": [
    {
     "data": {
      "text/plain": [
       "Index(['pre_root_id', 'post_root_id', 'pos_1', 'pos_2', 'log_spine_vol_um3_1',\n",
       "       'log_spine_vol_um3_2', 'mean_log_spine_vol_um3', 'mean_cleft_vx',\n",
       "       'log_cleft_vx_1', 'log_cleft_vx_2', 'syn_id_1', 'syn_id_2'],\n",
       "      dtype='object')"
      ]
     },
     "execution_count": 32,
     "metadata": {},
     "output_type": "execute_result"
    }
   ],
   "source": [
    "dual_syn_df.columns"
   ]
  },
  {
   "cell_type": "markdown",
   "metadata": {},
   "source": [
    "let's make a new nglui in order to highlight each synapse pair as a line\n",
    "rather than individual points\n",
    "\n",
    "we can reuse our synapse and segmentation layers\n",
    "\n",
    "setup a mapping rule for Line annotations\n",
    "in this case this is setup to light up pre and post partner\n",
    "and connect both synapses in a connection with a line."
   ]
  },
  {
   "cell_type": "code",
   "execution_count": 33,
   "metadata": {},
   "outputs": [],
   "source": [
    "syn_line_mapper = LineMapper(point_column_a='pos_1', point_column_b='pos_2',\n",
    "                       linked_segmentation_column=['pre_root_id', 'post_root_id'])\n",
    "\n",
    "# add these lines linked to the segmentation layer name\n",
    "dual_syn_layer = AnnotationLayerConfig(name='dual synapses', mapping_rules=syn_line_mapper, linked_segmentation_layer='seg')\n",
    "# setup a state builder with this layer pipeline\n",
    "dual_sb = StateBuilder([img_layer, seg_layer, dual_syn_layer])"
   ]
  },
  {
   "cell_type": "markdown",
   "metadata": {},
   "source": [
    "We will need just a slightly different link generating function\n"
   ]
  },
  {
   "cell_type": "code",
   "execution_count": 34,
   "metadata": {},
   "outputs": [],
   "source": [
    "def visualize_dual_synapses( selected_ids, df):\n",
    "    dff=df.loc[selected_ids]\n",
    "    return dual_sb.render_state(dff, return_as='url')"
   ]
  },
  {
   "cell_type": "markdown",
   "metadata": {},
   "source": [
    "We set the plot columns here to only show the ones that make sense to plot\n",
    "and to make the default first two columns be the ones shown in Figure 4a\n",
    "note that we haven't mirrored the data points as was done in the Figure."
   ]
  },
  {
   "cell_type": "code",
   "execution_count": 36,
   "metadata": {},
   "outputs": [
    {
     "name": "stdout",
     "output_type": "stream",
     "text": [
      "Dash app running on http://localhost:8888/proxy/8557/\n"
     ]
    },
    {
     "name": "stderr",
     "output_type": "stream",
     "text": [
      "Exception in thread Thread-87:\n",
      "Traceback (most recent call last):\n",
      "  File \"/Users/sharmishtaas/anaconda3/envs/ofs/lib/python3.7/threading.py\", line 917, in _bootstrap_inner\n",
      "    self.run()\n",
      "  File \"/Users/sharmishtaas/anaconda3/envs/ofs/lib/python3.7/threading.py\", line 865, in run\n",
      "    self._target(*self._args, **self._kwargs)\n",
      "  File \"/Users/sharmishtaas/anaconda3/envs/ofs/lib/python3.7/site-packages/retrying.py\", line 49, in wrapped_f\n",
      "    return Retrying(*dargs, **dkw).call(f, *args, **kw)\n",
      "  File \"/Users/sharmishtaas/anaconda3/envs/ofs/lib/python3.7/site-packages/retrying.py\", line 212, in call\n",
      "    raise attempt.get()\n",
      "  File \"/Users/sharmishtaas/anaconda3/envs/ofs/lib/python3.7/site-packages/retrying.py\", line 247, in get\n",
      "    six.reraise(self.value[0], self.value[1], self.value[2])\n",
      "  File \"/Users/sharmishtaas/anaconda3/envs/ofs/lib/python3.7/site-packages/six.py\", line 703, in reraise\n",
      "    raise value\n",
      "  File \"/Users/sharmishtaas/anaconda3/envs/ofs/lib/python3.7/site-packages/retrying.py\", line 200, in call\n",
      "    attempt = Attempt(fn(*args, **kwargs), attempt_number, False)\n",
      "  File \"/Users/sharmishtaas/anaconda3/envs/ofs/lib/python3.7/site-packages/jupyter_dash/jupyter_app.py\", line 289, in run\n",
      "    super_run_server(**kwargs)\n",
      "  File \"/Users/sharmishtaas/anaconda3/envs/ofs/lib/python3.7/site-packages/dash/dash.py\", line 1717, in run_server\n",
      "    self.server.run(host=host, port=port, debug=debug, **flask_run_options)\n",
      "  File \"/Users/sharmishtaas/anaconda3/envs/ofs/lib/python3.7/site-packages/flask/app.py\", line 990, in run\n",
      "    run_simple(host, port, self, **options)\n",
      "  File \"/Users/sharmishtaas/anaconda3/envs/ofs/lib/python3.7/site-packages/werkzeug/serving.py\", line 1052, in run_simple\n",
      "    inner()\n",
      "  File \"/Users/sharmishtaas/anaconda3/envs/ofs/lib/python3.7/site-packages/werkzeug/serving.py\", line 1005, in inner\n",
      "    fd=fd,\n",
      "  File \"/Users/sharmishtaas/anaconda3/envs/ofs/lib/python3.7/site-packages/werkzeug/serving.py\", line 848, in make_server\n",
      "    host, port, app, request_handler, passthrough_errors, ssl_context, fd=fd\n",
      "  File \"/Users/sharmishtaas/anaconda3/envs/ofs/lib/python3.7/site-packages/werkzeug/serving.py\", line 740, in __init__\n",
      "    HTTPServer.__init__(self, server_address, handler)\n",
      "  File \"/Users/sharmishtaas/anaconda3/envs/ofs/lib/python3.7/socketserver.py\", line 449, in __init__\n",
      "    self.server_bind()\n",
      "  File \"/Users/sharmishtaas/anaconda3/envs/ofs/lib/python3.7/http/server.py\", line 137, in server_bind\n",
      "    socketserver.TCPServer.server_bind(self)\n",
      "  File \"/Users/sharmishtaas/anaconda3/envs/ofs/lib/python3.7/socketserver.py\", line 463, in server_bind\n",
      "    self.socket.bind(self.server_address)\n",
      "OSError: [Errno 48] Address already in use\n",
      "\n"
     ]
    }
   ],
   "source": [
    "dual_app = JupyterDash(__name__, external_stylesheets=external_stylesheets)\n",
    "\n",
    "configure_app(dual_app, dual_syn_df,\n",
    "              link_func=visualize_dual_synapses, link_name='ngl synapse link',\n",
    "              plot_columns = \n",
    "              ['log_spine_vol_um3_1', 'log_spine_vol_um3_2', 'mean_log_spine_vol_um3', 'mean_cleft_vx',\n",
    "                'log_cleft_vx_1', 'log_cleft_vx_2', 'pre_root_id', 'post_root_id'])\n",
    "\n",
    "dual_app.run_server(mode='external',port=8557)"
   ]
  },
  {
   "cell_type": "markdown",
   "metadata": {},
   "source": [
    "A suggested exercise to explore the data further is to figure out how to extend this code to add pairs of synapses in 3, 4 and 5 synapse connections to this dynamic scatter plot. "
   ]
  },
  {
   "cell_type": "code",
   "execution_count": null,
   "metadata": {},
   "outputs": [],
   "source": []
  }
 ],
 "metadata": {
  "kernelspec": {
   "display_name": "Python 3",
   "language": "python",
   "name": "python3"
  },
  "language_info": {
   "codemirror_mode": {
    "name": "ipython",
    "version": 3
   },
   "file_extension": ".py",
   "mimetype": "text/x-python",
   "name": "python",
   "nbconvert_exporter": "python",
   "pygments_lexer": "ipython3",
   "version": "3.7.0"
  }
 },
 "nbformat": 4,
 "nbformat_minor": 4
}
